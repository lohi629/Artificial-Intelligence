{
 "cells": [
  {
   "cell_type": "code",
   "execution_count": 22,
   "id": "2b77fa17",
   "metadata": {},
   "outputs": [
    {
     "name": "stdout",
     "output_type": "stream",
     "text": [
      "enter capacity of first jug:4\n",
      "enter capacity of second jug:3\n",
      "enter goal state:2\n"
     ]
    }
   ],
   "source": [
    "m=int(input(\"enter capacity of first jug:\"))\n",
    "n=int(input(\"enter capacity of second jug:\"))\n",
    "goal=int(input(\"enter goal state:\"))\n"
   ]
  },
  {
   "cell_type": "code",
   "execution_count": 23,
   "id": "1395fd76",
   "metadata": {},
   "outputs": [],
   "source": [
    "def display():\n",
    "    print(\"1.fill first jug\")\n",
    "    print(\"2.empty first jug\")\n",
    "    print(\"3.fill second jug\")\n",
    "    print(\"4.empty second jug\")\n",
    "    print(\"5.pour water from 2 to 1\")\n",
    "    print(\"6.pour water from 1 to 2\")\n",
    "    print(\"7.pour water from 2 to 1 until it is filled\")\n",
    "    print(\"8.pour water from 1 to 2 until it is filled\")\n",
    "    "
   ]
  },
  {
   "cell_type": "code",
   "execution_count": 27,
   "id": "ee843733",
   "metadata": {},
   "outputs": [],
   "source": [
    "def apply(rule,x,y):\n",
    "    if rule==1:\n",
    "        if x<m:\n",
    "            x=m\n",
    "    elif rule==2:\n",
    "        if x>0:\n",
    "            x=0\n",
    "    elif rule==3:\n",
    "        if y<n:\n",
    "            y=n\n",
    "    elif rule==4:\n",
    "        if y>0:\n",
    "            y=0\n",
    "    elif rule==5:\n",
    "        if x+y<=m and y>0:\n",
    "            x=x+y\n",
    "            y=0\n",
    "    elif rule==6:\n",
    "        if x+y<=n and x>0:\n",
    "            y=x+y\n",
    "            x=0\n",
    "    elif rule==7:\n",
    "        if x+y>=m and y>0:\n",
    "            \n",
    "            y=y-(m-x)\n",
    "            x=m\n",
    "    elif rule==8:\n",
    "        if x+y>=n and x>0:\n",
    "            \n",
    "            x=x-(n-y)\n",
    "            y=n\n",
    "    return x,y\n",
    "    "
   ]
  },
  {
   "cell_type": "code",
   "execution_count": 30,
   "id": "218a28ce",
   "metadata": {},
   "outputs": [],
   "source": [
    "def bfs(m,n,goal,x,y):\n",
    "    if x==goal or y==goal:\n",
    "        print(\"goal state reached!\")\n",
    "        return (x,y)\n",
    "    queue=[[x,y]]\n",
    "    visited=[]\n",
    "    while True:\n",
    "        p,q=queue.pop(0)\n",
    "        if [p,q] not in visited:\n",
    "            visited.append([p,q])\n",
    "            if p==goal or q==goal:\n",
    "                return visited\n",
    "       \n",
    "        for i in range(1,9):\n",
    "            #print(p)\n",
    "            r,s=apply(i,p,q)\n",
    "            if [r,s] not in visited and [r,s] not in queue:\n",
    "                queue.append([r,s])"
   ]
  },
  {
   "cell_type": "code",
   "execution_count": 31,
   "id": "c251630a",
   "metadata": {},
   "outputs": [
    {
     "name": "stdout",
     "output_type": "stream",
     "text": [
      "[[0, 0], [4, 0], [0, 3], [4, 3], [1, 3], [3, 0], [1, 0], [3, 3], [0, 1], [4, 2]]\n"
     ]
    }
   ],
   "source": [
    "x=0\n",
    "y=0\n",
    "l=bfs(m,n,goal,x,y)\n",
    "print(l)"
   ]
  },
  {
   "cell_type": "code",
   "execution_count": 32,
   "id": "6d72f7d2",
   "metadata": {},
   "outputs": [],
   "source": [
    "def dfs(m,n,goal,x,y):\n",
    "    if x==goal or y==goal:\n",
    "        print(\"goal state reached!\")\n",
    "        return (x,y)\n",
    "    queue=[[x,y]]\n",
    "    visited=[]\n",
    "    while True:\n",
    "        p,q=queue.pop(-1)\n",
    "        if [p,q] not in visited:\n",
    "            visited.append([p,q])\n",
    "            if p==goal or q==goal:\n",
    "                return visited\n",
    "       \n",
    "        for i in range(1,9):\n",
    "            #print(p)\n",
    "            r,s=apply(i,p,q)\n",
    "            if [r,s] not in visited and [r,s] not in queue:\n",
    "                queue.append([r,s])"
   ]
  },
  {
   "cell_type": "code",
   "execution_count": 33,
   "id": "b336ab98",
   "metadata": {},
   "outputs": [
    {
     "name": "stdout",
     "output_type": "stream",
     "text": [
      "[[0, 0], [0, 3], [3, 0], [3, 3], [4, 2]]\n"
     ]
    }
   ],
   "source": [
    "x=0\n",
    "y=0\n",
    "d=dfs(m,n,goal,x,y)\n",
    "print(d)"
   ]
  },
  {
   "cell_type": "code",
   "execution_count": null,
   "id": "8654a094",
   "metadata": {},
   "outputs": [],
   "source": []
  }
 ],
 "metadata": {
  "kernelspec": {
   "display_name": "Python 3 (ipykernel)",
   "language": "python",
   "name": "python3"
  },
  "language_info": {
   "codemirror_mode": {
    "name": "ipython",
    "version": 3
   },
   "file_extension": ".py",
   "mimetype": "text/x-python",
   "name": "python",
   "nbconvert_exporter": "python",
   "pygments_lexer": "ipython3",
   "version": "3.9.7"
  }
 },
 "nbformat": 4,
 "nbformat_minor": 5
}
